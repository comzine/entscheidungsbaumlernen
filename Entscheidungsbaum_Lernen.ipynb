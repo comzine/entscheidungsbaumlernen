{
 "cells": [
  {
   "cell_type": "markdown",
   "metadata": {},
   "source": [
    "# Aufgaben und Lösungen zu Entscheidunsbäumen selbst erstellen\n",
    "Mit diesem Notebook können Sie auf einfache Weise\n",
    "- beliebig viele zufällige Daten erzeugen\n",
    "- mit von Ihnen festgelegten Namen für Merkmale und Werte.\n",
    "- Für diese Daten kann dann ein Entscheidungsbaum gelernt\n",
    "- und visualisiert werden  (für die Musterlösung)\n",
    "- Gini-Unreinheiten können automatisch berechnet werden (Musterlösung)\n",
    "- Durch Festlegen eines Random Seeds sind die Ergebnisse reproduzierbar.\n",
    "- Sie können aber durch Verändern des Random Seeds auch einfach so lange ausprobieren, bis sich \"schöne\" Bäume ergeben"
   ]
  },
  {
   "cell_type": "code",
   "execution_count": 1,
   "metadata": {},
   "outputs": [],
   "source": [
    "import pandas as pd   \n",
    "# Falls pandas nicht installiert ist, eine der folgenden Zeilen einkommentieren und ausführen\n",
    "# !conda install pandas\n",
    "# !pip install pandas\n",
    "\n",
    "from entscheidungsbaum import tree2graphviz_digraph, viel_info_attribut_fn, keine_info_attribut_fn\n",
    "from entscheidungsbaumlerner import DecisionTreeLearner\n",
    "from zufallsdaten import generiere_eindeutige_daten"
   ]
  },
  {
   "cell_type": "markdown",
   "metadata": {},
   "source": [
    "## Daten entweder aus einer Datei einlesen oder zufällig generieren lassen"
   ]
  },
  {
   "cell_type": "code",
   "execution_count": 2,
   "metadata": {},
   "outputs": [],
   "source": [
    "# Alternative 1: Daten aus einer Datei laden\n",
    "DATA_FILE = \"data/Wochenendaktivitaeten.csv\"\n",
    "df = pd.read_csv(DATA_FILE)"
   ]
  },
  {
   "cell_type": "code",
   "execution_count": 3,
   "metadata": {},
   "outputs": [
    {
     "name": "stdout",
     "output_type": "stream",
     "text": [
      "Random seed (um zufällige Daten reproduzieren zu können): 5\n",
      "Es wurden 12 Datensätze generiert:\n"
     ]
    },
    {
     "data": {
      "text/html": [
       "<div>\n",
       "<style scoped>\n",
       "    .dataframe tbody tr th:only-of-type {\n",
       "        vertical-align: middle;\n",
       "    }\n",
       "\n",
       "    .dataframe tbody tr th {\n",
       "        vertical-align: top;\n",
       "    }\n",
       "\n",
       "    .dataframe thead th {\n",
       "        text-align: right;\n",
       "    }\n",
       "</style>\n",
       "<table border=\"1\" class=\"dataframe\">\n",
       "  <thead>\n",
       "    <tr style=\"text-align: right;\">\n",
       "      <th></th>\n",
       "      <th>Farbe</th>\n",
       "      <th>Größe</th>\n",
       "      <th>Gewicht</th>\n",
       "      <th>Wertvoll?</th>\n",
       "    </tr>\n",
       "  </thead>\n",
       "  <tbody>\n",
       "    <tr>\n",
       "      <th>0</th>\n",
       "      <td>Weiß</td>\n",
       "      <td>Klein</td>\n",
       "      <td>Leicht</td>\n",
       "      <td>Nein</td>\n",
       "    </tr>\n",
       "    <tr>\n",
       "      <th>1</th>\n",
       "      <td>Schwarz</td>\n",
       "      <td>Klein</td>\n",
       "      <td>Schwer</td>\n",
       "      <td>Ja</td>\n",
       "    </tr>\n",
       "    <tr>\n",
       "      <th>2</th>\n",
       "      <td>Weiß</td>\n",
       "      <td>Groß</td>\n",
       "      <td>Leicht</td>\n",
       "      <td>Nein</td>\n",
       "    </tr>\n",
       "    <tr>\n",
       "      <th>3</th>\n",
       "      <td>Schwarz</td>\n",
       "      <td>Groß</td>\n",
       "      <td>Mittel</td>\n",
       "      <td>Nein</td>\n",
       "    </tr>\n",
       "    <tr>\n",
       "      <th>4</th>\n",
       "      <td>Schwarz</td>\n",
       "      <td>Mittel</td>\n",
       "      <td>Mittel</td>\n",
       "      <td>Nein</td>\n",
       "    </tr>\n",
       "    <tr>\n",
       "      <th>5</th>\n",
       "      <td>Schwarz</td>\n",
       "      <td>Klein</td>\n",
       "      <td>Leicht</td>\n",
       "      <td>Nein</td>\n",
       "    </tr>\n",
       "    <tr>\n",
       "      <th>6</th>\n",
       "      <td>Schwarz</td>\n",
       "      <td>Klein</td>\n",
       "      <td>Mittel</td>\n",
       "      <td>Nein</td>\n",
       "    </tr>\n",
       "    <tr>\n",
       "      <th>7</th>\n",
       "      <td>Weiß</td>\n",
       "      <td>Klein</td>\n",
       "      <td>Mittel</td>\n",
       "      <td>Ja</td>\n",
       "    </tr>\n",
       "    <tr>\n",
       "      <th>8</th>\n",
       "      <td>Schwarz</td>\n",
       "      <td>Mittel</td>\n",
       "      <td>Schwer</td>\n",
       "      <td>Nein</td>\n",
       "    </tr>\n",
       "    <tr>\n",
       "      <th>9</th>\n",
       "      <td>Weiß</td>\n",
       "      <td>Klein</td>\n",
       "      <td>Schwer</td>\n",
       "      <td>Nein</td>\n",
       "    </tr>\n",
       "    <tr>\n",
       "      <th>10</th>\n",
       "      <td>Schwarz</td>\n",
       "      <td>Groß</td>\n",
       "      <td>Schwer</td>\n",
       "      <td>Ja</td>\n",
       "    </tr>\n",
       "    <tr>\n",
       "      <th>11</th>\n",
       "      <td>Weiß</td>\n",
       "      <td>Groß</td>\n",
       "      <td>Schwer</td>\n",
       "      <td>Ja</td>\n",
       "    </tr>\n",
       "  </tbody>\n",
       "</table>\n",
       "</div>"
      ],
      "text/plain": [
       "      Farbe   Größe Gewicht Wertvoll?\n",
       "0      Weiß   Klein  Leicht      Nein\n",
       "1   Schwarz   Klein  Schwer        Ja\n",
       "2      Weiß    Groß  Leicht      Nein\n",
       "3   Schwarz    Groß  Mittel      Nein\n",
       "4   Schwarz  Mittel  Mittel      Nein\n",
       "5   Schwarz   Klein  Leicht      Nein\n",
       "6   Schwarz   Klein  Mittel      Nein\n",
       "7      Weiß   Klein  Mittel        Ja\n",
       "8   Schwarz  Mittel  Schwer      Nein\n",
       "9      Weiß   Klein  Schwer      Nein\n",
       "10  Schwarz    Groß  Schwer        Ja\n",
       "11     Weiß    Groß  Schwer        Ja"
      ]
     },
     "execution_count": 3,
     "metadata": {},
     "output_type": "execute_result"
    }
   ],
   "source": [
    "# Alternative 2: Zufallsdaten generieren\n",
    "import random\n",
    "\n",
    "# Setze den Zufallszahlengenerator auf einen festen Wert, um reproduzierbare Ergebnisse zu erhalten\n",
    "SEED = 5\n",
    "random.seed(SEED)\n",
    "print(f\"Random seed (um zufällige Daten reproduzieren zu können): {SEED}\")\n",
    "\n",
    "anzahl_datensaetze = 20\n",
    "\n",
    "# Liste der Merkmale und ihrer möglichen Werte\n",
    "# Format: (Merkmalsname, [Wert1, Wert2, ...])\n",
    "# Für \"neue\" Aufgaben einfach die Features und Werte umbenennen und\n",
    "# mit einem neuem Seed neue Zufallsdaten generieren\n",
    "feature_liste = [\n",
    "    ('Farbe', ['Schwarz', 'Weiß']),  \n",
    "    ('Größe', ['Klein', 'Mittel', 'Groß']), \n",
    "    ('Gewicht', ['Leicht', 'Mittel', 'Schwer']),\n",
    "    ('Wertvoll?', ['Ja', 'Nein'])  \n",
    "]\n",
    "\n",
    "\n",
    "df = generiere_eindeutige_daten(anzahl_datensaetze, feature_liste)\n",
    "print(f\"Es wurden {len(df)} Datensätze generiert:\")\n",
    "\n",
    "# DataFrame anzeigen - gut für einen Screenshot auf dem Arbeitsblatt ;-)\n",
    "df"
   ]
  },
  {
   "cell_type": "markdown",
   "metadata": {},
   "source": [
    "## Auswählen, welches Feature vom Entscheidungsbaum vorausgesagt werde soll"
   ]
  },
  {
   "cell_type": "code",
   "execution_count": 4,
   "metadata": {},
   "outputs": [],
   "source": [
    "# Standardmäßig wird das letzte Merkmal als Zielmerkmal angenommen:\n",
    "TARGET_FEATURE = df.columns[-1]\n",
    "# Wenn man das nicht will, kann man das Zielmerkmal auch explizit angeben:\n",
    "# TARGET_FEATURE = \"IrgendeinAndersMerkmal\"\n",
    "\n",
    "# Der Entscheidungsbaum-Lerner arbeitet mit Dictionarys, nicht mit DataFrames,\n",
    "# also wandeln wir das DataFrame um:\n",
    "data = df.to_dict(orient=\"records\")"
   ]
  },
  {
   "cell_type": "markdown",
   "metadata": {},
   "source": [
    "## Beispieloperation für den algorithmischen Teil einer Aufgabe"
   ]
  },
  {
   "cell_type": "code",
   "execution_count": 5,
   "metadata": {},
   "outputs": [],
   "source": [
    "# Musterlösung für die Pseudocode-Aufgabe aus der Probeabi\n",
    "def genauigkeit(zielwerte: list, vorhersagen: list) -> float:\n",
    "    \"\"\"Berechnet die Genauigkeit (accuracy) der Vorhersagen.\"\"\"\n",
    "    anzahl = len(zielwerte)\n",
    "    richtig = 0\n",
    "    for i in range(anzahl):\n",
    "        if zielwerte[i] == vorhersagen[i]:\n",
    "            richtig += 1\n",
    "    return richtig / anzahl"
   ]
  },
  {
   "cell_type": "markdown",
   "metadata": {},
   "source": [
    "## Der eigentliche Lernvorgang"
   ]
  },
  {
   "cell_type": "code",
   "execution_count": 6,
   "metadata": {},
   "outputs": [
    {
     "name": "stdout",
     "output_type": "stream",
     "text": [
      "Baum wurde gelernt.\n"
     ]
    }
   ],
   "source": [
    "learner = DecisionTreeLearner(data, TARGET_FEATURE)\n",
    "\n",
    "# HIER KANN MAN HERUMSPIELEN\n",
    "TIEFE = 1\n",
    "TIEFE = 2\n",
    "# TIEFE = 3\n",
    "\n",
    "tree = learner.learn(TIEFE)  # Hier wird der Baum gelernt!!!\n",
    "print(\"Baum wurde gelernt.\")\n"
   ]
  },
  {
   "cell_type": "markdown",
   "metadata": {},
   "source": [
    "## Lernvorgang analysieren\n",
    "Dies sind nur erste einfache Beispiele, die zeigen, wie man die Qualität des Gelernten untersuchen kann."
   ]
  },
  {
   "cell_type": "code",
   "execution_count": 7,
   "metadata": {},
   "outputs": [
    {
     "name": "stdout",
     "output_type": "stream",
     "text": [
      "Wie gut ist der Baum?\n",
      "Genauigkeit: 0.9167\n",
      "11 von 12 Datensätzen korrekt vorhergesagt.\n",
      "Einzelne Datensätze klassifizieren (s. Probeabi):\n",
      "Datensatz 8: {'Farbe': 'Schwarz', 'Größe': 'Mittel', 'Gewicht': 'Schwer', 'Wertvoll?': 'Nein'}\n",
      "    wird vom Baum klassifiziert als: Nein\n",
      "Datensatz 9: {'Farbe': 'Weiß', 'Größe': 'Klein', 'Gewicht': 'Schwer', 'Wertvoll?': 'Nein'}\n",
      "    wird vom Baum klassifiziert als: Ja\n"
     ]
    }
   ],
   "source": [
    "print(\"Wie gut ist der Baum?\")\n",
    "zielwerte = [datensatz[TARGET_FEATURE] for datensatz in data]\n",
    "vorhersagen = [tree.predict(datensatz) for datensatz in data]\n",
    "accuracy = genauigkeit(zielwerte, vorhersagen)\n",
    "print(f\"Genauigkeit: {accuracy:.4f}\")\n",
    "print(f\"{round(accuracy*len(data))} von {len(data)} Datensätzen korrekt vorhergesagt.\")\n",
    "\n",
    "print(\"Einzelne Datensätze klassifizieren (s. Probeabi):\")\n",
    "for beispiel in [8, 9]:\n",
    "    print(f\"Datensatz {beispiel}:\", data[beispiel])\n",
    "    print(\"    wird vom Baum klassifiziert als:\", tree.predict(data[beispiel]))"
   ]
  },
  {
   "cell_type": "markdown",
   "metadata": {},
   "source": [
    "## Baum visualisieren"
   ]
  },
  {
   "cell_type": "code",
   "execution_count": 8,
   "metadata": {},
   "outputs": [],
   "source": [
    "# Für die Visualisierung des Baums muss graphviz installiert sein.\n",
    "# Mit Anaconda: \n",
    "# !conda install -y graphviz python-graphviz"
   ]
  },
  {
   "cell_type": "code",
   "execution_count": 9,
   "metadata": {},
   "outputs": [
    {
     "name": "stderr",
     "output_type": "stream",
     "text": [
      "Warning: Could not load \"C:\\Users\\micbr\\miniconda3\\envs\\abi2024\\Library\\bin\\gvplugin_pango.dll\" - It was found, so perhaps one of its dependents was not.  Try ldd.\n",
      "Warning: no value for width of non-ASCII character 195. Falling back to width of space character\n"
     ]
    },
    {
     "data": {
      "image/svg+xml": [
       "<?xml version=\"1.0\" encoding=\"UTF-8\" standalone=\"no\"?>\n",
       "<!DOCTYPE svg PUBLIC \"-//W3C//DTD SVG 1.1//EN\"\n",
       " \"http://www.w3.org/Graphics/SVG/1.1/DTD/svg11.dtd\">\n",
       "<!-- Generated by graphviz version 2.50.0 (0)\n",
       " -->\n",
       "<!-- Pages: 1 -->\n",
       "<svg width=\"350pt\" height=\"210pt\"\n",
       " viewBox=\"0.00 0.00 350.00 209.60\" xmlns=\"http://www.w3.org/2000/svg\" xmlns:xlink=\"http://www.w3.org/1999/xlink\">\n",
       "<g id=\"graph0\" class=\"graph\" transform=\"scale(1 1) rotate(0) translate(4 205.6)\">\n",
       "<polygon fill=\"white\" stroke=\"transparent\" points=\"-4,4 -4,-205.6 346,-205.6 346,4 -4,4\"/>\n",
       "<!-- 1801908580288 -->\n",
       "<g id=\"node1\" class=\"node\">\n",
       "<title>1801908580288</title>\n",
       "<polygon fill=\"white\" stroke=\"black\" points=\"149,-201.6 95,-201.6 95,-165.6 149,-165.6 149,-201.6\"/>\n",
       "<text text-anchor=\"middle\" x=\"122\" y=\"-180.9\" font-family=\"Calibri\" font-size=\"9.00\">Gewicht</text>\n",
       "</g>\n",
       "<!-- 1801903479776 -->\n",
       "<g id=\"node2\" class=\"node\">\n",
       "<title>1801903479776</title>\n",
       "<ellipse fill=\"lightgray\" stroke=\"black\" cx=\"50\" cy=\"-100.8\" rx=\"27\" ry=\"18\"/>\n",
       "<text text-anchor=\"middle\" x=\"50\" y=\"-98.1\" font-family=\"Calibri\" font-size=\"9.00\">Nein</text>\n",
       "</g>\n",
       "<!-- 1801908580288&#45;&gt;1801903479776 -->\n",
       "<g id=\"edge1\" class=\"edge\">\n",
       "<title>1801908580288&#45;&gt;1801903479776</title>\n",
       "<path fill=\"none\" stroke=\"black\" d=\"M106.73,-165.46C96.07,-153.5 81.72,-137.39 70.12,-124.38\"/>\n",
       "<polygon fill=\"black\" stroke=\"black\" points=\"72.58,-121.88 63.31,-116.74 67.35,-126.53 72.58,-121.88\"/>\n",
       "<text text-anchor=\"middle\" x=\"101.94\" y=\"-139.5\" font-family=\"Calibri\" font-size=\"9.00\">Leicht</text>\n",
       "</g>\n",
       "<!-- 1801896461904 -->\n",
       "<g id=\"node3\" class=\"node\">\n",
       "<title>1801896461904</title>\n",
       "<polygon fill=\"white\" stroke=\"black\" points=\"149,-118.8 95,-118.8 95,-82.8 149,-82.8 149,-118.8\"/>\n",
       "<text text-anchor=\"middle\" x=\"122\" y=\"-98.1\" font-family=\"Calibri\" font-size=\"9.00\">Größe</text>\n",
       "</g>\n",
       "<!-- 1801908580288&#45;&gt;1801896461904 -->\n",
       "<g id=\"edge2\" class=\"edge\">\n",
       "<title>1801908580288&#45;&gt;1801896461904</title>\n",
       "<path fill=\"none\" stroke=\"black\" d=\"M122,-165.46C122,-154.86 122,-141.01 122,-128.94\"/>\n",
       "<polygon fill=\"black\" stroke=\"black\" points=\"125.5,-128.91 122,-118.91 118.5,-128.91 125.5,-128.91\"/>\n",
       "<text text-anchor=\"middle\" x=\"135.36\" y=\"-139.5\" font-family=\"Calibri\" font-size=\"9.00\">Schwer</text>\n",
       "</g>\n",
       "<!-- 1801909874480 -->\n",
       "<g id=\"node4\" class=\"node\">\n",
       "<title>1801909874480</title>\n",
       "<polygon fill=\"white\" stroke=\"black\" points=\"270,-118.8 216,-118.8 216,-82.8 270,-82.8 270,-118.8\"/>\n",
       "<text text-anchor=\"middle\" x=\"243\" y=\"-98.1\" font-family=\"Calibri\" font-size=\"9.00\">Farbe</text>\n",
       "</g>\n",
       "<!-- 1801908580288&#45;&gt;1801909874480 -->\n",
       "<g id=\"edge3\" class=\"edge\">\n",
       "<title>1801908580288&#45;&gt;1801909874480</title>\n",
       "<path fill=\"none\" stroke=\"black\" d=\"M147.66,-165.46C165.47,-153.57 189.38,-137.6 208.81,-124.63\"/>\n",
       "<polygon fill=\"black\" stroke=\"black\" points=\"211,-127.37 217.38,-118.91 207.12,-121.55 211,-127.37\"/>\n",
       "<text text-anchor=\"middle\" x=\"201.17\" y=\"-139.5\" font-family=\"Calibri\" font-size=\"9.00\">Mittel</text>\n",
       "</g>\n",
       "<!-- 1801897026592 -->\n",
       "<g id=\"node5\" class=\"node\">\n",
       "<title>1801897026592</title>\n",
       "<ellipse fill=\"lightgray\" stroke=\"black\" cx=\"27\" cy=\"-18\" rx=\"27\" ry=\"18\"/>\n",
       "<text text-anchor=\"middle\" x=\"27\" y=\"-15.3\" font-family=\"Calibri\" font-size=\"9.00\">Ja</text>\n",
       "</g>\n",
       "<!-- 1801896461904&#45;&gt;1801897026592 -->\n",
       "<g id=\"edge4\" class=\"edge\">\n",
       "<title>1801896461904&#45;&gt;1801897026592</title>\n",
       "<path fill=\"none\" stroke=\"black\" d=\"M101.85,-82.66C86.92,-69.96 66.51,-52.61 50.78,-39.22\"/>\n",
       "<polygon fill=\"black\" stroke=\"black\" points=\"52.91,-36.45 43.03,-32.63 48.38,-41.78 52.91,-36.45\"/>\n",
       "<text text-anchor=\"middle\" x=\"90.01\" y=\"-56.7\" font-family=\"Calibri\" font-size=\"9.00\">Klein</text>\n",
       "</g>\n",
       "<!-- 1801896406352 -->\n",
       "<g id=\"node6\" class=\"node\">\n",
       "<title>1801896406352</title>\n",
       "<ellipse fill=\"lightgray\" stroke=\"black\" cx=\"99\" cy=\"-18\" rx=\"27\" ry=\"18\"/>\n",
       "<text text-anchor=\"middle\" x=\"99\" y=\"-15.3\" font-family=\"Calibri\" font-size=\"9.00\">Nein</text>\n",
       "</g>\n",
       "<!-- 1801896461904&#45;&gt;1801896406352 -->\n",
       "<g id=\"edge5\" class=\"edge\">\n",
       "<title>1801896461904&#45;&gt;1801896406352</title>\n",
       "<path fill=\"none\" stroke=\"black\" d=\"M117.12,-82.66C114.05,-71.88 110.03,-57.74 106.55,-45.52\"/>\n",
       "<polygon fill=\"black\" stroke=\"black\" points=\"109.9,-44.49 103.79,-35.83 103.16,-46.41 109.9,-44.49\"/>\n",
       "<text text-anchor=\"middle\" x=\"123.17\" y=\"-56.7\" font-family=\"Calibri\" font-size=\"9.00\">Mittel</text>\n",
       "</g>\n",
       "<!-- 1801908789440 -->\n",
       "<g id=\"node7\" class=\"node\">\n",
       "<title>1801908789440</title>\n",
       "<ellipse fill=\"lightgray\" stroke=\"black\" cx=\"171\" cy=\"-18\" rx=\"27\" ry=\"18\"/>\n",
       "<text text-anchor=\"middle\" x=\"171\" y=\"-15.3\" font-family=\"Calibri\" font-size=\"9.00\">Ja</text>\n",
       "</g>\n",
       "<!-- 1801896461904&#45;&gt;1801908789440 -->\n",
       "<g id=\"edge6\" class=\"edge\">\n",
       "<title>1801896461904&#45;&gt;1801908789440</title>\n",
       "<path fill=\"none\" stroke=\"black\" d=\"M132.39,-82.66C139.26,-71.33 148.38,-56.3 156.03,-43.68\"/>\n",
       "<polygon fill=\"black\" stroke=\"black\" points=\"159.1,-45.38 161.29,-35.01 153.11,-41.75 159.1,-45.38\"/>\n",
       "<text text-anchor=\"middle\" x=\"158.82\" y=\"-56.7\" font-family=\"Calibri\" font-size=\"9.00\">Groß</text>\n",
       "</g>\n",
       "<!-- 1801901045712 -->\n",
       "<g id=\"node8\" class=\"node\">\n",
       "<title>1801901045712</title>\n",
       "<ellipse fill=\"lightgray\" stroke=\"black\" cx=\"243\" cy=\"-18\" rx=\"27\" ry=\"18\"/>\n",
       "<text text-anchor=\"middle\" x=\"243\" y=\"-15.3\" font-family=\"Calibri\" font-size=\"9.00\">Nein</text>\n",
       "</g>\n",
       "<!-- 1801909874480&#45;&gt;1801901045712 -->\n",
       "<g id=\"edge7\" class=\"edge\">\n",
       "<title>1801909874480&#45;&gt;1801901045712</title>\n",
       "<path fill=\"none\" stroke=\"black\" d=\"M243,-82.66C243,-72.06 243,-58.21 243,-46.14\"/>\n",
       "<polygon fill=\"black\" stroke=\"black\" points=\"246.5,-46.11 243,-36.11 239.5,-46.11 246.5,-46.11\"/>\n",
       "<text text-anchor=\"middle\" x=\"258.05\" y=\"-56.7\" font-family=\"Calibri\" font-size=\"9.00\">Schwarz</text>\n",
       "</g>\n",
       "<!-- 1801909872656 -->\n",
       "<g id=\"node9\" class=\"node\">\n",
       "<title>1801909872656</title>\n",
       "<ellipse fill=\"lightgray\" stroke=\"black\" cx=\"315\" cy=\"-18\" rx=\"27\" ry=\"18\"/>\n",
       "<text text-anchor=\"middle\" x=\"315\" y=\"-15.3\" font-family=\"Calibri\" font-size=\"9.00\">Ja</text>\n",
       "</g>\n",
       "<!-- 1801909874480&#45;&gt;1801909872656 -->\n",
       "<g id=\"edge8\" class=\"edge\">\n",
       "<title>1801909874480&#45;&gt;1801909872656</title>\n",
       "<path fill=\"none\" stroke=\"black\" d=\"M260.22,-82.61C265.68,-77.02 271.68,-70.72 277,-64.8 283.35,-57.73 290.05,-49.82 296.02,-42.6\"/>\n",
       "<polygon fill=\"black\" stroke=\"black\" points=\"299,-44.48 302.63,-34.52 293.59,-40.04 299,-44.48\"/>\n",
       "<text text-anchor=\"middle\" x=\"294.31\" y=\"-56.7\" font-family=\"Calibri\" font-size=\"9.00\">Weiß</text>\n",
       "</g>\n",
       "</g>\n",
       "</svg>\n"
      ],
      "text/plain": [
       "<graphviz.graphs.Digraph at 0x1a38970a450>"
      ]
     },
     "execution_count": 9,
     "metadata": {},
     "output_type": "execute_result"
    }
   ],
   "source": [
    "attribute_viz_fn = keine_info_attribut_fn\n",
    "# attribute_viz_fn = viel_info_attribut_fn\n",
    "\n",
    "g = tree2graphviz_digraph(tree, attribute_viz_fn)\n",
    "g.graph_attr = dict()\n",
    "g.node_attr = dict(fontname=\"Calibri\", fontsize=\"9\")\n",
    "g.edge_attr = dict(fontname=\"Calibri\", fontsize=\"9\")\n",
    "\n",
    "g "
   ]
  },
  {
   "cell_type": "markdown",
   "metadata": {},
   "source": [
    "### Gini-Unreinheiten explizit berechnen"
   ]
  },
  {
   "cell_type": "code",
   "execution_count": 10,
   "metadata": {},
   "outputs": [
    {
     "name": "stdout",
     "output_type": "stream",
     "text": [
      "Gini Impurity für alle Daten: 0.4444\n",
      "Einzelschritte für die Musterlösung:\n",
      "p(Nein) = 0.6667\n",
      "p(Ja) = 0.3333\n",
      "Gini Impurity für alle Daten: 0.4444\n"
     ]
    }
   ],
   "source": [
    "gini = learner.gini_impurity(data)\n",
    "print(f\"Gini Impurity für alle Daten: {gini:.4f}\")\n",
    "\n",
    "print(\"Einzelschritte für die Musterlösung:\")\n",
    "anzahl = len(data)\n",
    "gini = 1\n",
    "splits = learner.split_data(data, TARGET_FEATURE)\n",
    "for wert, subset in splits.items():\n",
    "    p_i = len(subset) / anzahl\n",
    "    print(f\"p({wert}) = {p_i:.4f}\")\n",
    "    gini -= p_i * p_i\n",
    "print(f\"Gini Impurity für alle Daten: {gini:.4f}\")"
   ]
  },
  {
   "cell_type": "code",
   "execution_count": 11,
   "metadata": {},
   "outputs": [
    {
     "name": "stdout",
     "output_type": "stream",
     "text": [
      "Gewichtete Gini-Unreinheit für Größe: 0.389\n",
      "Einzelschritte für die Musterlösung:\n",
      "Klein: p_v = 6/12 = 50.00%, gini_v = 0.444. Produkt: 0.222\n",
      "Groß: p_v = 4/12 = 33.33%, gini_v = 0.500. Produkt: 0.167\n",
      "Mittel: p_v = 2/12 = 16.67%, gini_v = 0.000. Produkt: 0.000\n",
      "weighted gini: 0.389\n"
     ]
    }
   ],
   "source": [
    "SOME_FEATURE = \"Größe\"\n",
    "\n",
    "print(f\"Gewichtete Gini-Unreinheit für {SOME_FEATURE}: {learner.weighted_gini(data, SOME_FEATURE):.3f}\")\n",
    "\n",
    "\n",
    "print(\"Einzelschritte für die Musterlösung:\")\n",
    "n = len(learner.ALL_DATA)\n",
    "splits = learner.split_data(learner.ALL_DATA, SOME_FEATURE)\n",
    "weighted_gini_total = 0\n",
    "for v, data_v in splits.items():\n",
    "    p_v = len(data_v) / n\n",
    "    gini_v = learner.gini_impurity(data_v)\n",
    "    product = p_v * gini_v\n",
    "    print(f\"{v}: p_v = {len(data_v)}/{n} = {p_v:.2%}, gini_v = {gini_v:.3f}. Produkt: {product:.3f}\")\n",
    "    weighted_gini_total += product\n",
    "print(f\"weighted gini: {weighted_gini_total:.3f}\")"
   ]
  }
 ],
 "metadata": {
  "kernelspec": {
   "display_name": "abi2024",
   "language": "python",
   "name": "python3"
  },
  "language_info": {
   "codemirror_mode": {
    "name": "ipython",
    "version": 3
   },
   "file_extension": ".py",
   "mimetype": "text/x-python",
   "name": "python",
   "nbconvert_exporter": "python",
   "pygments_lexer": "ipython3",
   "version": "3.12.1"
  }
 },
 "nbformat": 4,
 "nbformat_minor": 2
}
